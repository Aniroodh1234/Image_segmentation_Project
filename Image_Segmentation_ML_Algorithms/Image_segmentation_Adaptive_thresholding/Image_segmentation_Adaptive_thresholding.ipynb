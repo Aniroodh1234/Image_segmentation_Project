{
  "nbformat": 4,
  "nbformat_minor": 0,
  "metadata": {
    "colab": {
      "provenance": [],
      "authorship_tag": "ABX9TyP3cGZbbgbZ5Ux2t/h9+2+Q",
      "include_colab_link": true
    },
    "kernelspec": {
      "name": "python3",
      "display_name": "Python 3"
    },
    "language_info": {
      "name": "python"
    }
  },
  "cells": [
    {
      "cell_type": "markdown",
      "metadata": {
        "id": "view-in-github",
        "colab_type": "text"
      },
      "source": [
        "<a href=\"https://colab.research.google.com/github/Aniroodh1234/Image_Segmentation/blob/main/Image_segmentation_adaptive_thresholding.ipynb\" target=\"_parent\"><img src=\"https://colab.research.google.com/assets/colab-badge.svg\" alt=\"Open In Colab\"/></a>"
      ]
    },
    {
      "cell_type": "code",
      "execution_count": null,
      "metadata": {
        "id": "w4LeY9LJGGZQ"
      },
      "outputs": [],
      "source": [
        "# 🧰 Install required libraries\n",
        "!pip install opencv-python matplotlib numpy\n"
      ]
    },
    {
      "cell_type": "code",
      "source": [
        "import cv2\n",
        "import numpy as np\n",
        "import matplotlib.pyplot as plt\n",
        "import os\n"
      ],
      "metadata": {
        "id": "_5vYznwFIe-k"
      },
      "execution_count": 2,
      "outputs": []
    },
    {
      "cell_type": "code",
      "source": [
        "# 📂 Define image folder\n",
        "image_folder = \"Image\"\n",
        "\n",
        "# Get all images\n",
        "image_files = [f for f in os.listdir(image_folder) if f.endswith(('.jpg', '.png', '.jpeg'))]\n",
        "\n",
        "# Display original images\n",
        "for img_file in image_files:\n",
        "    img_path = os.path.join(image_folder, img_file)\n",
        "    img = cv2.imread(img_path)\n",
        "    img_gray = cv2.cvtColor(img, cv2.COLOR_BGR2GRAY)\n",
        "\n",
        "    plt.figure(figsize=(5,5))\n",
        "    plt.imshow(img_gray, cmap='gray')\n",
        "    plt.title(f\"Original Grayscale Image: {img_file}\")\n",
        "    plt.axis('off')\n",
        "    plt.show()"
      ],
      "metadata": {
        "id": "wngZstPyIhtK"
      },
      "execution_count": null,
      "outputs": []
    },
    {
      "cell_type": "code",
      "source": [
        "# Function for adaptive thresholding\n",
        "def adaptive_threshold(image_path, method='mean', block_size=11, C=2):\n",
        "    \"\"\"\n",
        "    Parameters:\n",
        "    - method: 'mean' or 'gaussian' for threshold calculation\n",
        "    - block_size: size of the local region (must be odd)\n",
        "    - C: constant subtracted from mean or weighted sum\n",
        "    \"\"\"\n",
        "    img = cv2.imread(image_path, cv2.IMREAD_GRAYSCALE)\n",
        "\n",
        "    if method == 'mean':\n",
        "        thresh = cv2.adaptiveThreshold(img, 255, cv2.ADAPTIVE_THRESH_MEAN_C,\n",
        "                                       cv2.THRESH_BINARY, block_size, C)\n",
        "    elif method == 'gaussian':\n",
        "        thresh = cv2.adaptiveThreshold(img, 255, cv2.ADAPTIVE_THRESH_GAUSSIAN_C,\n",
        "                                       cv2.THRESH_BINARY, block_size, C)\n",
        "    else:\n",
        "        raise ValueError(\"Method must be 'mean' or 'gaussian'\")\n",
        "\n",
        "    return img, thresh\n"
      ],
      "metadata": {
        "id": "IKRlE1VNIjem"
      },
      "execution_count": 5,
      "outputs": []
    },
    {
      "cell_type": "code",
      "source": [
        "# Apply and visualize adaptive thresholding\n",
        "for img_file in image_files:\n",
        "    img_path = os.path.join(image_folder, img_file)\n",
        "\n",
        "    # Mean Adaptive Threshold\n",
        "    gray, thresh_mean = adaptive_threshold(img_path, method='mean', block_size=11, C=2)\n",
        "\n",
        "    # Gaussian Adaptive Threshold\n",
        "    _, thresh_gaussian = adaptive_threshold(img_path, method='gaussian', block_size=11, C=2)\n",
        "\n",
        "    plt.figure(figsize=(15,5))\n",
        "\n",
        "    plt.subplot(1,3,1)\n",
        "    plt.imshow(gray, cmap='gray')\n",
        "    plt.title(\"Original Grayscale\")\n",
        "    plt.axis('off')\n",
        "\n",
        "    plt.subplot(1,3,2)\n",
        "    plt.imshow(thresh_mean, cmap='gray')\n",
        "    plt.title(\"Adaptive Mean Threshold\")\n",
        "    plt.axis('off')\n",
        "\n",
        "    plt.subplot(1,3,3)\n",
        "    plt.imshow(thresh_gaussian, cmap='gray')\n",
        "    plt.title(\"Adaptive Gaussian Threshold\")\n",
        "    plt.axis('off')\n",
        "\n",
        "    plt.suptitle(f\"Adaptive Thresholding - {img_file}\", fontsize=14)\n",
        "    plt.show()\n"
      ],
      "metadata": {
        "id": "dA5Hl1RBKsrT"
      },
      "execution_count": null,
      "outputs": []
    }
  ]
}