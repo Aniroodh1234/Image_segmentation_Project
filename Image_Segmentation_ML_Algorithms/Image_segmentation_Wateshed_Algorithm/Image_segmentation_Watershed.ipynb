{
  "nbformat": 4,
  "nbformat_minor": 0,
  "metadata": {
    "colab": {
      "provenance": [],
      "authorship_tag": "ABX9TyMXoKkdkOYiybtJ1HVOmhBZ",
      "include_colab_link": true
    },
    "kernelspec": {
      "name": "python3",
      "display_name": "Python 3"
    },
    "language_info": {
      "name": "python"
    }
  },
  "cells": [
    {
      "cell_type": "markdown",
      "metadata": {
        "id": "view-in-github",
        "colab_type": "text"
      },
      "source": [
        "<a href=\"https://colab.research.google.com/github/Aniroodh1234/Image_Segmentation/blob/main/Image_segmentation_Watershed.ipynb\" target=\"_parent\"><img src=\"https://colab.research.google.com/assets/colab-badge.svg\" alt=\"Open In Colab\"/></a>"
      ]
    },
    {
      "cell_type": "code",
      "source": [
        "# 🧰 Install required libraries\n",
        "!pip install opencv-python matplotlib numpy\n"
      ],
      "metadata": {
        "id": "-HpI8w4uPbFH"
      },
      "execution_count": null,
      "outputs": []
    },
    {
      "cell_type": "code",
      "source": [
        "import cv2\n",
        "import numpy as np\n",
        "import matplotlib.pyplot as plt\n",
        "import os\n"
      ],
      "metadata": {
        "id": "ffFRQp8VPdJV"
      },
      "execution_count": null,
      "outputs": []
    },
    {
      "cell_type": "code",
      "source": [
        "# 📂 Define image folder\n",
        "image_folder = \"Image\"\n",
        "\n",
        "# List all images\n",
        "image_files = [f for f in os.listdir(image_folder) if f.endswith(('.jpg', '.png', '.jpeg'))]\n",
        "\n",
        "# Display original images\n",
        "for img_file in image_files:\n",
        "    img_path = os.path.join(image_folder, img_file)\n",
        "    img = cv2.imread(img_path)\n",
        "    img_rgb = cv2.cvtColor(img, cv2.COLOR_BGR2RGB)\n",
        "\n",
        "    plt.figure(figsize=(5,5))\n",
        "    plt.imshow(img_rgb)\n",
        "    plt.title(f\"Original Image: {img_file}\")\n",
        "    plt.axis('off')\n",
        "    plt.show()\n"
      ],
      "metadata": {
        "id": "5sC3f4NdPea0"
      },
      "execution_count": null,
      "outputs": []
    },
    {
      "cell_type": "code",
      "source": [
        "def watershed_segmentation(image_path):\n",
        "    # Step 1: Read image\n",
        "    img = cv2.imread(image_path)\n",
        "    img_rgb = cv2.cvtColor(img, cv2.COLOR_BGR2RGB)\n",
        "\n",
        "    # Step 2: Convert to grayscale\n",
        "    gray = cv2.cvtColor(img, cv2.COLOR_BGR2GRAY)\n",
        "\n",
        "    # Step 3: Apply threshold to get binary image\n",
        "    ret, thresh = cv2.threshold(gray, 0, 255, cv2.THRESH_BINARY_INV + cv2.THRESH_OTSU)\n",
        "\n",
        "    # Step 4: Noise removal using morphological opening\n",
        "    kernel = np.ones((3,3), np.uint8)\n",
        "    opening = cv2.morphologyEx(thresh, cv2.MORPH_OPEN, kernel, iterations=2)\n",
        "\n",
        "    # Step 5: Sure background area (dilate)\n",
        "    sure_bg = cv2.dilate(opening, kernel, iterations=3)\n",
        "\n",
        "    # Step 6: Sure foreground area (distance transform)\n",
        "    dist_transform = cv2.distanceTransform(opening, cv2.DIST_L2, 5)\n",
        "    ret, sure_fg = cv2.threshold(dist_transform, 0.7*dist_transform.max(), 255, 0)\n",
        "\n",
        "    # Step 7: Unknown region (subtract foreground from background)\n",
        "    sure_fg = np.uint8(sure_fg)\n",
        "    unknown = cv2.subtract(sure_bg, sure_fg)\n",
        "\n",
        "    # Step 8: Marker labelling\n",
        "    ret, markers = cv2.connectedComponents(sure_fg)\n",
        "    markers = markers + 1\n",
        "    markers[unknown==255] = 0\n",
        "\n",
        "    # Step 9: Apply watershed\n",
        "    markers_ws = cv2.watershed(img, markers)\n",
        "\n",
        "    # Step 10: Mark boundaries in red\n",
        "    img_rgb[markers_ws == -1] = [255,0,0]  # Red boundaries\n",
        "\n",
        "    return img_rgb, markers_ws\n"
      ],
      "metadata": {
        "id": "08XWNnxDPhKE"
      },
      "execution_count": null,
      "outputs": []
    },
    {
      "cell_type": "code",
      "source": [
        "for img_file in image_files:\n",
        "    img_path = os.path.join(image_folder, img_file)\n",
        "    segmented_img, markers = watershed_segmentation(img_path)\n",
        "\n",
        "    plt.figure(figsize=(10,5))\n",
        "    plt.subplot(1,2,1)\n",
        "    plt.imshow(cv2.cvtColor(cv2.imread(img_path), cv2.COLOR_BGR2RGB))\n",
        "    plt.title(\"Original Image\")\n",
        "    plt.axis('off')\n",
        "\n",
        "    plt.subplot(1,2,2)\n",
        "    plt.imshow(segmented_img)\n",
        "    plt.title(\"Watershed Segmentation\")\n",
        "    plt.axis('off')\n",
        "\n",
        "    plt.suptitle(f\"Watershed Segmentation - {img_file}\", fontsize=14)\n",
        "    plt.show()\n"
      ],
      "metadata": {
        "id": "i_MHjOZPPirF"
      },
      "execution_count": null,
      "outputs": []
    },
    {
      "cell_type": "code",
      "source": [],
      "metadata": {
        "id": "CxZ5YJTqPm4d"
      },
      "execution_count": null,
      "outputs": []
    }
  ]
}