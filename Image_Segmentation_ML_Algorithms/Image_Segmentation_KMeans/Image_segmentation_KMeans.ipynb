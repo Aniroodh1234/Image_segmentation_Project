{
  "nbformat": 4,
  "nbformat_minor": 0,
  "metadata": {
    "colab": {
      "provenance": [],
      "authorship_tag": "ABX9TyOPlt85CE0lv1eM57maLV2k",
      "include_colab_link": true
    },
    "kernelspec": {
      "name": "python3",
      "display_name": "Python 3"
    },
    "language_info": {
      "name": "python"
    }
  },
  "cells": [
    {
      "cell_type": "markdown",
      "metadata": {
        "id": "view-in-github",
        "colab_type": "text"
      },
      "source": [
        "<a href=\"https://colab.research.google.com/github/Aniroodh1234/Image_Segmentation/blob/main/Image_segmentation_KMeans.ipynb\" target=\"_parent\"><img src=\"https://colab.research.google.com/assets/colab-badge.svg\" alt=\"Open In Colab\"/></a>"
      ]
    },
    {
      "cell_type": "code",
      "source": [
        "# 🧰 Install necessary libraries\n",
        "!pip install opencv-python matplotlib numpy\n"
      ],
      "metadata": {
        "id": "gHoMiwjANtsr"
      },
      "execution_count": null,
      "outputs": []
    },
    {
      "cell_type": "code",
      "source": [
        "# 📦 Import libraries\n",
        "import cv2\n",
        "import numpy as np\n",
        "import matplotlib.pyplot as plt\n",
        "import os"
      ],
      "metadata": {
        "id": "DzSeNFRJN5r3"
      },
      "execution_count": 8,
      "outputs": []
    },
    {
      "cell_type": "code",
      "source": [
        "# 📂 Define image directory\n",
        "image_folder = \"Image\"  # Folder where your images are stored\n",
        "\n",
        "# 🖼️ List all image files\n",
        "image_files = [f for f in os.listdir(image_folder) if f.endswith(('.jpg', '.png', '.jpeg'))]\n",
        "\n",
        "# 🔍 Display all images\n",
        "for img_file in image_files:\n",
        "    img_path = os.path.join(image_folder, img_file)\n",
        "    img = cv2.imread(img_path)\n",
        "    img_rgb = cv2.cvtColor(img, cv2.COLOR_BGR2RGB)\n",
        "\n",
        "    plt.figure(figsize=(5,5))\n",
        "    plt.imshow(img_rgb)\n",
        "    plt.title(f\"Original Image: {img_file}\")\n",
        "    plt.axis('off')\n",
        "    plt.show()\n"
      ],
      "metadata": {
        "id": "rMq85I8ON74c"
      },
      "execution_count": null,
      "outputs": []
    },
    {
      "cell_type": "code",
      "source": [
        "# 🎨 Function to perform K-Means segmentation\n",
        "def kmeans_segmentation(image_path, K=3):\n",
        "    # Step 1: Read and convert image\n",
        "    img = cv2.imread(image_path)\n",
        "    img_rgb = cv2.cvtColor(img, cv2.COLOR_BGR2RGB)\n",
        "\n",
        "    # Step 2: Reshape image into 2D array of pixels\n",
        "    pixel_values = img_rgb.reshape((-1, 3))\n",
        "    pixel_values = np.float32(pixel_values)\n",
        "\n",
        "    # Step 3: Define criteria and apply KMeans\n",
        "    criteria = (cv2.TERM_CRITERIA_EPS + cv2.TERM_CRITERIA_MAX_ITER, 100, 0.2)\n",
        "    _, labels, centers = cv2.kmeans(\n",
        "        pixel_values, K, None, criteria, 10, cv2.KMEANS_RANDOM_CENTERS\n",
        "    )\n",
        "\n",
        "    # Step 4: Convert centers back to uint8 (RGB colors)\n",
        "    centers = np.uint8(centers)\n",
        "\n",
        "    # Step 5: Replace pixel values with cluster center\n",
        "    segmented_data = centers[labels.flatten()]\n",
        "\n",
        "    # Step 6: Reshape back to original image dimensions\n",
        "    segmented_image = segmented_data.reshape(img_rgb.shape)\n",
        "\n",
        "    return img_rgb, segmented_image\n"
      ],
      "metadata": {
        "id": "6EQl14rpN9vj"
      },
      "execution_count": 10,
      "outputs": []
    },
    {
      "cell_type": "code",
      "source": [
        "# 🎯 Apply segmentation to all images in folder\n",
        "K = 4  # Number of clusters (change this to experiment)\n",
        "\n",
        "for img_file in image_files:\n",
        "    img_path = os.path.join(image_folder, img_file)\n",
        "    original, segmented = kmeans_segmentation(img_path, K)\n",
        "\n",
        "    # Display results side-by-side\n",
        "    plt.figure(figsize=(10,5))\n",
        "    plt.subplot(1,2,1)\n",
        "    plt.imshow(original)\n",
        "    plt.title(\"Original Image\")\n",
        "    plt.axis('off')\n",
        "\n",
        "    plt.subplot(1,2,2)\n",
        "    plt.imshow(segmented)\n",
        "    plt.title(f\"K-Means Segmentation (K={K})\")\n",
        "    plt.axis('off')\n",
        "\n",
        "    plt.suptitle(f\"Segmentation Result for {img_file}\", fontsize=14)\n",
        "    plt.show()\n"
      ],
      "metadata": {
        "id": "iROyudxKOHLd"
      },
      "execution_count": null,
      "outputs": []
    },
    {
      "cell_type": "code",
      "source": [],
      "metadata": {
        "id": "1OaSpSZiOinz"
      },
      "execution_count": null,
      "outputs": []
    }
  ]
}